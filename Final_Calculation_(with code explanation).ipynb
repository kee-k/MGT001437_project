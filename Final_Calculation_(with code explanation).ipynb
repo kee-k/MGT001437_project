{
 "cells": [
  {
   "attachments": {
    "image.png": {
     "image/png": "[encoded data removed]"
    }
   },
   "cell_type": "markdown",
   "id": "9ecf5e04-904c-4ca1-a733-73abfe693a78",
   "metadata": {},
   "source": [
    "# LCA of Smartphone production from different countries (Calculation)\n",
    "\n",
    "\n",
    "This code performs an LCA on the production of single unit of smartphone.\n",
    "\n",
    "The goal and scope of this LCA are to compare the environmental impacts associated with the production of smartphones. \n",
    "\n",
    "The functional unit chosen for this study is \"one unit of a smartphone\", and the system boundary includes raw material acquisition and manufacturing processes. \n",
    "\n",
    "![image.png](attachment:image.png)\n"
   ]
  },
  {
   "cell_type": "markdown",
   "id": "f4543931-5b9c-4b65-bce2-5244e6c8d1db",
   "metadata": {},
   "source": [
    "# 1. Setting Up \n",
    "Here we need proper packages, databases to conduct LCA. \n",
    "\n",
    "We will conduct three steps which are  \n",
    "\n",
    "\n",
    "(1) Importing relevant packages, \n",
    "\n",
    "(2) Creating project and import database\n",
    "\n",
    "(3) Import LCI data"
   ]
  },
  {
   "cell_type": "markdown",
   "id": "f01ed2c2",
   "metadata": {},
   "source": [
    "### 1-1. Importing the Relevant packages\n",
    "\n",
    "This code utilize [Brightway2](https://brightway.dev/), which is an open-source software package based on Python, used for conducting LCA. \n",
    "\n",
    "Below is the code for importing the necessary packages including Brightway2."
   ]
  },
  {
   "cell_type": "code",
   "execution_count": 1,
   "id": "98bbf7f5-7c6a-419b-8940-cdd7aea805aa",
   "metadata": {},
   "outputs": [],
   "source": [
    "# import the packages\n",
    "import bw2data as bd # the data handling brightway package\n",
    "import bw2io as bi # the data input out package, used to import ecoinvent\n",
    "import bw2calc as bc # the package that does the math\n",
    "import bw2analyzer as bwa # used for the iterative calculations\n",
    "from brightway2 import *\n",
    "\n",
    "# Impport basic libraries\n",
    "import matplotlib.pyplot as plt\n",
    "import numpy as np\n",
    "import pandas as pd\n",
    "import seaborn as sns\n",
    "from scipy import stats"
   ]
  },
  {
   "cell_type": "markdown",
   "id": "482d9ba6",
   "metadata": {},
   "source": [
    "### 1-2. Importing Ecoinvent Database\n",
    "\n",
    "The code sets \"myproject\" as the current project and imports the [Ecoinvent](https://ecoinvent.org/database/) database from a specified path, applies processing strategies, and saves the data. \n",
    "\n",
    "It also lists available databases, including various versions of Ecoinvent."
   ]
  },
  {
   "cell_type": "code",
   "execution_count": 2,
   "id": "b319cac6",
   "metadata": {},
   "outputs": [
    {
     "data": {
      "text/plain": [
       "Databases dictionary with 5 object(s):\n",
       "\tDB_Name\n",
       "\tElectric Machines\n",
       "\tbiosphere3\n",
       "\tecoinvent 3.9 cutoff\n",
       "\tecoinvent 3.91 cutoff"
      ]
     },
     "execution_count": 2,
     "metadata": {},
     "output_type": "execute_result"
    }
   ],
   "source": [
    "bd.projects.set_current(\"myproject\")\n",
    "bd.databases"
   ]
  },
  {
   "cell_type": "code",
   "execution_count": 10,
   "id": "bb2826cf",
   "metadata": {},
   "outputs": [
    {
     "name": "stderr",
     "output_type": "stream",
     "text": [
      "Extracting ecospold2 files:\n",
      "0% [##############################] 100% | ETA: 00:00:00 | Item ID: fffede58-fed2-5\n",
      "Total time elapsed: 00:05:48\n"
     ]
    },
    {
     "name": "stdout",
     "output_type": "stream",
     "text": [
      "Title: Extracting ecospold2 files:\n",
      "  Started: 06/17/2024 14:26:29\n",
      "  Finished: 06/17/2024 14:32:17\n",
      "  Total time elapsed: 00:05:48\n",
      "  CPU %: 12.60\n",
      "  Memory %: 40.47\n",
      "Extracted 21238 datasets in 350.09 seconds\n",
      "Applying strategy: normalize_units\n",
      "Applying strategy: update_ecoinvent_locations\n",
      "Applying strategy: remove_zero_amount_coproducts\n",
      "Applying strategy: remove_zero_amount_inputs_with_no_activity\n",
      "Applying strategy: remove_unnamed_parameters\n",
      "Applying strategy: es2_assign_only_product_with_amount_as_reference_product\n",
      "Applying strategy: assign_single_product_as_activity\n",
      "Applying strategy: create_composite_code\n",
      "Applying strategy: drop_unspecified_subcategories\n",
      "Applying strategy: fix_ecoinvent_flows_pre35\n",
      "Applying strategy: drop_temporary_outdated_biosphere_flows\n",
      "Applying strategy: link_biosphere_by_flow_uuid\n",
      "Applying strategy: link_internal_technosphere_by_composite_code\n",
      "Applying strategy: delete_exchanges_missing_activity\n",
      "Applying strategy: delete_ghost_exchanges\n",
      "Applying strategy: remove_uncertainty_from_negative_loss_exchanges\n",
      "Applying strategy: fix_unreasonably_high_lognormal_uncertainties\n",
      "Applying strategy: convert_activity_parameters_to_list\n",
      "Applying strategy: add_cpc_classification_from_single_reference_product\n",
      "Applying strategy: delete_none_synonyms\n",
      "Applying strategy: update_social_flows_in_older_consequential\n",
      "Applying strategy: set_lognormal_loc_value\n",
      "Applied 22 strategies in 8.75 seconds\n"
     ]
    },
    {
     "name": "stderr",
     "output_type": "stream",
     "text": [
      "Writing activities to SQLite3 database:\n",
      "0% [##############################] 100% | ETA: 00:00:00\n",
      "Total time elapsed: 00:00:39\n"
     ]
    },
    {
     "name": "stdout",
     "output_type": "stream",
     "text": [
      "Title: Writing activities to SQLite3 database:\n",
      "  Started: 06/17/2024 14:32:32\n",
      "  Finished: 06/17/2024 14:33:12\n",
      "  Total time elapsed: 00:00:39\n",
      "  CPU %: 38.90\n",
      "  Memory %: 36.45\n",
      "Created database: ecoinvent\n"
     ]
    },
    {
     "data": {
      "text/plain": [
       "Brightway2 SQLiteBackend: ecoinvent"
      ]
     },
     "execution_count": 10,
     "metadata": {},
     "output_type": "execute_result"
    }
   ],
   "source": [
    "path = r\"C:\\Users\\User\\Song\\ecoinvent 3.9.1_cutoff_ecoSpold02\\datasets\"\n",
    "ei = SingleOutputEcospold2Importer(path, \"ecoinvent\")\n",
    "ei.apply_strategies()\n",
    "ei.write_database()"
   ]
  },
  {
   "cell_type": "markdown",
   "id": "b2d14876",
   "metadata": {},
   "source": [
    "### 1-3. Importing LCI data"
   ]
  },
  {
   "cell_type": "markdown",
   "id": "37aa9288",
   "metadata": {},
   "source": [
    "The script imports LCI data from an Excel file using Brightway2 and cleans it by removing empty entries.\n",
    "\n",
    "\n",
    "It then matches the data to existing databases like ecoinvent and the biosphere for complete integration.\n",
    "\n",
    "\n",
    "Finally, it displays statistics on the data, highlighting any unlinked exchanges."
   ]
  },
  {
   "cell_type": "code",
   "execution_count": 86,
   "id": "650c3187-af95-4dd8-80cc-63752691e09b",
   "metadata": {},
   "outputs": [
    {
     "name": "stdout",
     "output_type": "stream",
     "text": [
      "Extracted 1 worksheets in 0.04 seconds\n",
      "Applying strategy: csv_restore_tuples\n",
      "Applying strategy: csv_restore_booleans\n",
      "Applying strategy: csv_numerize\n",
      "Applying strategy: csv_drop_unknown\n",
      "Applying strategy: csv_add_missing_exchanges_section\n",
      "Applying strategy: normalize_units\n",
      "Applying strategy: normalize_biosphere_categories\n",
      "Applying strategy: normalize_biosphere_names\n",
      "Applying strategy: strip_biosphere_exc_locations\n",
      "Applying strategy: set_code_by_activity_hash\n",
      "Applying strategy: link_iterable_by_fields\n",
      "Applying strategy: assign_only_product_as_production\n",
      "Applying strategy: link_technosphere_by_activity_hash\n",
      "Applying strategy: drop_falsey_uncertainty_fields_but_keep_zeros\n",
      "Applying strategy: convert_uncertainty_types_to_integers\n",
      "Applying strategy: convert_activity_parameters_to_list\n",
      "Applied 16 strategies in 5.75 seconds\n",
      "Applying strategy: link_iterable_by_fields\n",
      "Applying strategy: link_iterable_by_fields\n",
      "Applying strategy: link_iterable_by_fields\n",
      "5 datasets\n",
      "40 exchanges\n",
      "0 unlinked exchanges\n",
      "  \n"
     ]
    },
    {
     "data": {
      "text/plain": [
       "(5, 40, 0)"
      ]
     },
     "execution_count": 86,
     "metadata": {},
     "output_type": "execute_result"
    }
   ],
   "source": [
    "# Import the excel LCI for a NMC cells\n",
    "filepath = r\"C:\\Users\\User\\Song\\LCI_Example - 2.xlsx\" # path to excel LCI\n",
    "em_importer = bi.ExcelImporter(filepath) # create importer object\n",
    "\n",
    "# Check for empty cells in Excel and remove (thanks to Romain Sacchi)\n",
    "for x in em_importer.data:\n",
    "        for k, v in list(x.items()):\n",
    "            if not v:\n",
    "                del x[k]\n",
    "\n",
    "em_importer.apply_strategies() # apply strategies to process the excel data\n",
    "\n",
    "# we link imported activities to one another first, if needed\n",
    "# on the basis of their name, unit and location\n",
    "em_importer.match_database(fields=[\"name\", \"unit\", \"location\"])\n",
    "\n",
    "# then we link to ecoinvent for the remaining unlinked technosphere exchanges\n",
    "# on the basis of their name, reference product, unit and location\n",
    "em_importer.match_database('ecoinvent 3.91 cutoff',  fields=[\"reference product\", \"name\", \"unit\", \"location\"])\n",
    "\n",
    "# and then we link emission flows to the biosphere database\n",
    "em_importer.match_database('biosphere3',  fields=[\"name\", \"unit\", \"categories\"])\n",
    "\n",
    "# shows stats about unlinked exchanged\n",
    "em_importer.statistics()"
   ]
  },
  {
   "cell_type": "markdown",
   "id": "cd7f6110",
   "metadata": {},
   "source": [
    "Write another database with activity"
   ]
  },
  {
   "cell_type": "code",
   "execution_count": 87,
   "id": "b504263e-9a53-4429-bfb9-fc30c7d803de",
   "metadata": {},
   "outputs": [
    {
     "name": "stderr",
     "output_type": "stream",
     "text": [
      "Writing activities to SQLite3 database:\n",
      "0% [#####] 100% | ETA: 00:00:00\n",
      "Total time elapsed: 00:00:00\n"
     ]
    },
    {
     "name": "stdout",
     "output_type": "stream",
     "text": [
      "Title: Writing activities to SQLite3 database:\n",
      "  Started: 06/17/2024 15:53:50\n",
      "  Finished: 06/17/2024 15:53:50\n",
      "  Total time elapsed: 00:00:00\n",
      "  CPU %: 0.00\n",
      "  Memory %: 23.17\n",
      "Created database: Smartphone\n"
     ]
    }
   ],
   "source": [
    "em_importer.write_database()\n",
    "ems = bd.Database('Smartphone') #create object\n",
    "list([act for act in ems])\n",
    "India_act = ems.search('India')[0]\n",
    "Brazil_act = ems.search('Brazil')[0]\n",
    "Europe_act = ems.search('Europe')[0]\n",
    "US_act = ems.search('USA')[0]\n",
    "China_act = ems.search('China')[0]"
   ]
  },
  {
   "cell_type": "markdown",
   "id": "cf030cbd-aa0d-4792-a654-687b6a4fcc4e",
   "metadata": {},
   "source": [
    "# 2. Selecting an Impact Category Method\n",
    "\n",
    "Impact categories are classifications in LCA that represent different types of environmental impacts, such as climate change, acidification, or eutrophication, and are used to assess the environmental performance of products or systems.\n",
    "\n",
    "The script filters methods from the Brightway2 bd.methods that match the criteria \"ReCiPe 2016 v1.03, midpoint (E) no LT\" and stores them in us_meth.\n",
    "\n",
    "It then iterates over us_meth, extracting and printing the impact category name and its corresponding unit for each method.\n",
    "\n",
    "This process also identifies the units of measurement used for specific impact categories in the selected method set."
   ]
  },
  {
   "cell_type": "code",
   "execution_count": 73,
   "id": "5cbc4ad7",
   "metadata": {},
   "outputs": [
    {
     "name": "stdout",
     "output_type": "stream",
     "text": [
      "[('ReCiPe 2016 v1.03, midpoint (E) no LT', 'acidification: terrestrial no LT', 'terrestrial acidification potential (TAP) no LT'), ('ReCiPe 2016 v1.03, midpoint (E) no LT', 'climate change no LT', 'global warming potential (GWP1000) no LT'), ('ReCiPe 2016 v1.03, midpoint (E) no LT', 'ecotoxicity: freshwater no LT', 'freshwater ecotoxicity potential (FETP) no LT'), ('ReCiPe 2016 v1.03, midpoint (E) no LT', 'ecotoxicity: marine no LT', 'marine ecotoxicity potential (METP) no LT'), ('ReCiPe 2016 v1.03, midpoint (E) no LT', 'ecotoxicity: terrestrial no LT', 'terrestrial ecotoxicity potential (TETP) no LT'), ('ReCiPe 2016 v1.03, midpoint (E) no LT', 'energy resources: non-renewable, fossil no LT', 'fossil fuel potential (FFP) no LT'), ('ReCiPe 2016 v1.03, midpoint (E) no LT', 'eutrophication: freshwater no LT', 'freshwater eutrophication potential (FEP) no LT'), ('ReCiPe 2016 v1.03, midpoint (E) no LT', 'eutrophication: marine no LT', 'marine eutrophication potential (MEP) no LT'), ('ReCiPe 2016 v1.03, midpoint (E) no LT', 'human toxicity: carcinogenic no LT', 'human toxicity potential (HTPc) no LT'), ('ReCiPe 2016 v1.03, midpoint (E) no LT', 'human toxicity: non-carcinogenic no LT', 'human toxicity potential (HTPnc) no LT'), ('ReCiPe 2016 v1.03, midpoint (E) no LT', 'ionising radiation no LT', 'ionising radiation potential (IRP) no LT'), ('ReCiPe 2016 v1.03, midpoint (E) no LT', 'land use no LT', 'agricultural land occupation (LOP) no LT'), ('ReCiPe 2016 v1.03, midpoint (E) no LT', 'material resources: metals/minerals no LT', 'surplus ore potential (SOP) no LT'), ('ReCiPe 2016 v1.03, midpoint (E) no LT', 'ozone depletion no LT', 'ozone depletion potential (ODPinfinite) no LT'), ('ReCiPe 2016 v1.03, midpoint (E) no LT', 'particulate matter formation no LT', 'particulate matter formation potential (PMFP) no LT'), ('ReCiPe 2016 v1.03, midpoint (E) no LT', 'photochemical oxidant formation: human health no LT', 'photochemical oxidant formation potential: humans (HOFP) no LT'), ('ReCiPe 2016 v1.03, midpoint (E) no LT', 'photochemical oxidant formation: terrestrial ecosystems no LT', 'photochemical oxidant formation potential: ecosystems (EOFP) no LT'), ('ReCiPe 2016 v1.03, midpoint (E) no LT', 'water use no LT', 'water consumption potential (WCP) no LT')]\n"
     ]
    }
   ],
   "source": [
    "us_meth=[met for met in bd.methods if 'ReCiPe 2016 v1.03, midpoint (E) no LT' in met[0] ]\n",
    "us_meth = us_meth\n",
    "print(us_meth)"
   ]
  },
  {
   "cell_type": "code",
   "execution_count": 103,
   "id": "fca1ec24",
   "metadata": {},
   "outputs": [
    {
     "name": "stdout",
     "output_type": "stream",
     "text": [
      "('ReCiPe 2016 v1.03, midpoint (E) no LT', 'acidification: terrestrial no LT', 'terrestrial acidification potential (TAP) no LT')\n",
      "kg SO2-Eq\n",
      "('ReCiPe 2016 v1.03, midpoint (E) no LT', 'climate change no LT', 'global warming potential (GWP1000) no LT')\n",
      "kg CO2-Eq\n",
      "('ReCiPe 2016 v1.03, midpoint (E) no LT', 'ecotoxicity: freshwater no LT', 'freshwater ecotoxicity potential (FETP) no LT')\n",
      "kg 1,4-DCB-Eq\n",
      "('ReCiPe 2016 v1.03, midpoint (E) no LT', 'ecotoxicity: marine no LT', 'marine ecotoxicity potential (METP) no LT')\n",
      "kg 1,4-DCB-Eq\n",
      "('ReCiPe 2016 v1.03, midpoint (E) no LT', 'ecotoxicity: terrestrial no LT', 'terrestrial ecotoxicity potential (TETP) no LT')\n",
      "kg 1,4-DCB-Eq\n",
      "('ReCiPe 2016 v1.03, midpoint (E) no LT', 'energy resources: non-renewable, fossil no LT', 'fossil fuel potential (FFP) no LT')\n",
      "kg oil-Eq\n",
      "('ReCiPe 2016 v1.03, midpoint (E) no LT', 'eutrophication: freshwater no LT', 'freshwater eutrophication potential (FEP) no LT')\n",
      "kg P-Eq\n",
      "('ReCiPe 2016 v1.03, midpoint (E) no LT', 'eutrophication: marine no LT', 'marine eutrophication potential (MEP) no LT')\n",
      "kg N-Eq\n",
      "('ReCiPe 2016 v1.03, midpoint (E) no LT', 'human toxicity: carcinogenic no LT', 'human toxicity potential (HTPc) no LT')\n",
      "kg 1,4-DCB-Eq\n",
      "('ReCiPe 2016 v1.03, midpoint (E) no LT', 'human toxicity: non-carcinogenic no LT', 'human toxicity potential (HTPnc) no LT')\n",
      "kg 1,4-DCB-Eq\n",
      "('ReCiPe 2016 v1.03, midpoint (E) no LT', 'ionising radiation no LT', 'ionising radiation potential (IRP) no LT')\n",
      "kg Co-60-Eq\n",
      "('ReCiPe 2016 v1.03, midpoint (E) no LT', 'land use no LT', 'agricultural land occupation (LOP) no LT')\n",
      "m2*a crop-Eq\n",
      "('ReCiPe 2016 v1.03, midpoint (E) no LT', 'material resources: metals/minerals no LT', 'surplus ore potential (SOP) no LT')\n",
      "kg Cu-Eq\n",
      "('ReCiPe 2016 v1.03, midpoint (E) no LT', 'ozone depletion no LT', 'ozone depletion potential (ODPinfinite) no LT')\n",
      "kg CFC-11-Eq\n",
      "('ReCiPe 2016 v1.03, midpoint (E) no LT', 'particulate matter formation no LT', 'particulate matter formation potential (PMFP) no LT')\n",
      "kg PM2.5-Eq\n",
      "('ReCiPe 2016 v1.03, midpoint (E) no LT', 'photochemical oxidant formation: human health no LT', 'photochemical oxidant formation potential: humans (HOFP) no LT')\n",
      "kg NOx-Eq\n",
      "('ReCiPe 2016 v1.03, midpoint (E) no LT', 'photochemical oxidant formation: terrestrial ecosystems no LT', 'photochemical oxidant formation potential: ecosystems (EOFP) no LT')\n",
      "kg NOx-Eq\n",
      "('ReCiPe 2016 v1.03, midpoint (E) no LT', 'water use no LT', 'water consumption potential (WCP) no LT')\n",
      "cubic meter\n"
     ]
    }
   ],
   "source": [
    "for method in us_meth:\n",
    "    impact= method\n",
    "    unit = bd.methods.get(method).get('unit')\n",
    "    print(impact)\n",
    "    print(unit)"
   ]
  },
  {
   "cell_type": "markdown",
   "id": "2910a56c",
   "metadata": {},
   "source": [
    "# 3. Conduct LCA\n",
    "\n",
    "Here we will conduct LCA.\n",
    "\n",
    "We will conduct three steps which are  \n",
    "\n",
    "(1) Initialization and Setup\n",
    "\n",
    "\n",
    "(2) Calculation and Looping \n",
    "\n",
    "\n",
    "(3) Creating a DataFrame\n"
   ]
  },
  {
   "cell_type": "markdown",
   "id": "8293b68d",
   "metadata": {},
   "source": [
    "### 3-1. Initialization and Setup:\n",
    "\n",
    "\"result = []:\" This list will store the results of the LCA calculations.\n",
    "\n",
    "\"activity = [India_act, Brazil_act, Europe_act, US_act, China_act]:\" This list contains different activity datasets representing various geographical regions or processes (e.g., activities in India, Brazil, Europe, the US, and China)."
   ]
  },
  {
   "cell_type": "code",
   "execution_count": null,
   "id": "cc59acc3",
   "metadata": {},
   "outputs": [],
   "source": [
    "result = []\n",
    "activity = [India_act, Brazil_act, Europe_act, US_act, China_act]"
   ]
  },
  {
   "cell_type": "markdown",
   "id": "3d8ee78d",
   "metadata": {},
   "source": [
    "### 3-2. Calculation and Looping :\n",
    "\n",
    "The outer loop iterates over each activity in the activity list.\n",
    "\n",
    "The inner loop iterates over each method in us_meth, which contains specific LCA impact assessment methods, such as \"ReCiPe 2016 v1.03, midpoint (E) no LT.\"\n",
    "\n",
    "For each combination of activity and method, an LCA calculation is performed:\n",
    "\n",
    "\"lca = bc.LCA({act:1}, method):\" Initializes the LCA object for a specific activity and method, where act is the activity, and method is the impact assessment method.\n",
    "\n",
    "\"lca.lci():\" Performs the Life Cycle Inventory (LCI) analysis, which calculates the flows of resources and emissions associated with the activity.\n",
    "\n",
    "\"lca.lcia():\" Performs the Life Cycle Impact Assessment (LCIA), which calculates the potential environmental impacts using the specified method.\n",
    "\n",
    "\"result.append({'name' : act['name'], 'Score':lca.score, 'Impact Category':method, 'unit':bd.methods.get(method).get('unit')}):\" For each combination of activity and method, the code stores the results in the result list."
   ]
  },
  {
   "cell_type": "code",
   "execution_count": 105,
   "id": "0e8e8702",
   "metadata": {},
   "outputs": [],
   "source": [
    "for act in activity:\n",
    "    for method in us_meth:\n",
    "        # perform lca for nmc cells at pack level\n",
    "        lca = bc.LCA({act:1}, method)\n",
    "        lca.lci()\n",
    "        lca.lcia()\n",
    "        result.append({'name' : act['name'],\n",
    "                        'Score':lca.score,\n",
    "                        'Impact Category':method,\n",
    "                        'unit':bd.methods.get(method).get('unit')})"
   ]
  },
  {
   "cell_type": "markdown",
   "id": "206180d5",
   "metadata": {},
   "source": [
    "### 3-3. Creating a DataFrame:\n",
    "\n",
    "\"result_df = pd.DataFrame(result):\" Converts the list of results into a Pandas DataFrame, making it easier to analyze and visualize the data."
   ]
  },
  {
   "cell_type": "code",
   "execution_count": 106,
   "id": "c2977342",
   "metadata": {},
   "outputs": [
    {
     "data": {
      "text/html": [
       "<div>\n",
       "<style scoped>\n",
       "    .dataframe tbody tr th:only-of-type {\n",
       "        vertical-align: middle;\n",
       "    }\n",
       "\n",
       "    .dataframe tbody tr th {\n",
       "        vertical-align: top;\n",
       "    }\n",
       "\n",
       "    .dataframe thead th {\n",
       "        text-align: right;\n",
       "    }\n",
       "</style>\n",
       "<table border=\"1\" class=\"dataframe\">\n",
       "  <thead>\n",
       "    <tr style=\"text-align: right;\">\n",
       "      <th></th>\n",
       "      <th>name</th>\n",
       "      <th>Score</th>\n",
       "      <th>Impact Category</th>\n",
       "      <th>unit</th>\n",
       "    </tr>\n",
       "  </thead>\n",
       "  <tbody>\n",
       "    <tr>\n",
       "      <th>0</th>\n",
       "      <td>India</td>\n",
       "      <td>0.127566</td>\n",
       "      <td>(ReCiPe 2016 v1.03, midpoint (E) no LT, acidif...</td>\n",
       "      <td>kg SO2-Eq</td>\n",
       "    </tr>\n",
       "    <tr>\n",
       "      <th>1</th>\n",
       "      <td>India</td>\n",
       "      <td>36.491312</td>\n",
       "      <td>(ReCiPe 2016 v1.03, midpoint (E) no LT, climat...</td>\n",
       "      <td>kg CO2-Eq</td>\n",
       "    </tr>\n",
       "    <tr>\n",
       "      <th>2</th>\n",
       "      <td>India</td>\n",
       "      <td>0.159025</td>\n",
       "      <td>(ReCiPe 2016 v1.03, midpoint (E) no LT, ecotox...</td>\n",
       "      <td>kg 1,4-DCB-Eq</td>\n",
       "    </tr>\n",
       "    <tr>\n",
       "      <th>3</th>\n",
       "      <td>India</td>\n",
       "      <td>970.737711</td>\n",
       "      <td>(ReCiPe 2016 v1.03, midpoint (E) no LT, ecotox...</td>\n",
       "      <td>kg 1,4-DCB-Eq</td>\n",
       "    </tr>\n",
       "    <tr>\n",
       "      <th>4</th>\n",
       "      <td>India</td>\n",
       "      <td>139.131102</td>\n",
       "      <td>(ReCiPe 2016 v1.03, midpoint (E) no LT, ecotox...</td>\n",
       "      <td>kg 1,4-DCB-Eq</td>\n",
       "    </tr>\n",
       "    <tr>\n",
       "      <th>...</th>\n",
       "      <td>...</td>\n",
       "      <td>...</td>\n",
       "      <td>...</td>\n",
       "      <td>...</td>\n",
       "    </tr>\n",
       "    <tr>\n",
       "      <th>85</th>\n",
       "      <td>China</td>\n",
       "      <td>0.000025</td>\n",
       "      <td>(ReCiPe 2016 v1.03, midpoint (E) no LT, ozone ...</td>\n",
       "      <td>kg CFC-11-Eq</td>\n",
       "    </tr>\n",
       "    <tr>\n",
       "      <th>86</th>\n",
       "      <td>China</td>\n",
       "      <td>0.071784</td>\n",
       "      <td>(ReCiPe 2016 v1.03, midpoint (E) no LT, partic...</td>\n",
       "      <td>kg PM2.5-Eq</td>\n",
       "    </tr>\n",
       "    <tr>\n",
       "      <th>87</th>\n",
       "      <td>China</td>\n",
       "      <td>0.086541</td>\n",
       "      <td>(ReCiPe 2016 v1.03, midpoint (E) no LT, photoc...</td>\n",
       "      <td>kg NOx-Eq</td>\n",
       "    </tr>\n",
       "    <tr>\n",
       "      <th>88</th>\n",
       "      <td>China</td>\n",
       "      <td>0.089941</td>\n",
       "      <td>(ReCiPe 2016 v1.03, midpoint (E) no LT, photoc...</td>\n",
       "      <td>kg NOx-Eq</td>\n",
       "    </tr>\n",
       "    <tr>\n",
       "      <th>89</th>\n",
       "      <td>China</td>\n",
       "      <td>0.391421</td>\n",
       "      <td>(ReCiPe 2016 v1.03, midpoint (E) no LT, water ...</td>\n",
       "      <td>cubic meter</td>\n",
       "    </tr>\n",
       "  </tbody>\n",
       "</table>\n",
       "<p>90 rows × 4 columns</p>\n",
       "</div>"
      ],
      "text/plain": [
       "     name       Score                                    Impact Category  \\\n",
       "0   India    0.127566  (ReCiPe 2016 v1.03, midpoint (E) no LT, acidif...   \n",
       "1   India   36.491312  (ReCiPe 2016 v1.03, midpoint (E) no LT, climat...   \n",
       "2   India    0.159025  (ReCiPe 2016 v1.03, midpoint (E) no LT, ecotox...   \n",
       "3   India  970.737711  (ReCiPe 2016 v1.03, midpoint (E) no LT, ecotox...   \n",
       "4   India  139.131102  (ReCiPe 2016 v1.03, midpoint (E) no LT, ecotox...   \n",
       "..    ...         ...                                                ...   \n",
       "85  China    0.000025  (ReCiPe 2016 v1.03, midpoint (E) no LT, ozone ...   \n",
       "86  China    0.071784  (ReCiPe 2016 v1.03, midpoint (E) no LT, partic...   \n",
       "87  China    0.086541  (ReCiPe 2016 v1.03, midpoint (E) no LT, photoc...   \n",
       "88  China    0.089941  (ReCiPe 2016 v1.03, midpoint (E) no LT, photoc...   \n",
       "89  China    0.391421  (ReCiPe 2016 v1.03, midpoint (E) no LT, water ...   \n",
       "\n",
       "             unit  \n",
       "0       kg SO2-Eq  \n",
       "1       kg CO2-Eq  \n",
       "2   kg 1,4-DCB-Eq  \n",
       "3   kg 1,4-DCB-Eq  \n",
       "4   kg 1,4-DCB-Eq  \n",
       "..            ...  \n",
       "85   kg CFC-11-Eq  \n",
       "86    kg PM2.5-Eq  \n",
       "87      kg NOx-Eq  \n",
       "88      kg NOx-Eq  \n",
       "89    cubic meter  \n",
       "\n",
       "[90 rows x 4 columns]"
      ]
     },
     "execution_count": 106,
     "metadata": {},
     "output_type": "execute_result"
    }
   ],
   "source": [
    "result_df = pd.DataFrame(result)\n",
    "result_df"
   ]
  },
  {
   "cell_type": "markdown",
   "id": "91b430e0",
   "metadata": {},
   "source": [
    "# 4. Exporting the data"
   ]
  },
  {
   "cell_type": "code",
   "execution_count": 109,
   "id": "e44fc663",
   "metadata": {},
   "outputs": [
    {
     "name": "stdout",
     "output_type": "stream",
     "text": [
      "DataFrame exported to 'result.csv' successfully.\n"
     ]
    }
   ],
   "source": [
    "result_df.to_csv('result.csv', index=False)\n",
    "\n",
    "print(\"DataFrame exported to 'result.csv' successfully.\")"
   ]
  }
 ],
 "metadata": {
  "kernelspec": {
   "display_name": "Python 3",
   "language": "python",
   "name": "python3"
  },
  "language_info": {
   "codemirror_mode": {
    "name": "ipython",
    "version": 3
   },
   "file_extension": ".py",
   "mimetype": "text/x-python",
   "name": "python",
   "nbconvert_exporter": "python",
   "pygments_lexer": "ipython3",
   "version": "3.10.7"
  }
 },
 "nbformat": 4,
 "nbformat_minor": 5
}
