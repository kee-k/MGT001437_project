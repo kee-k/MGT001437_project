{
 "cells": [
  {
   "cell_type": "markdown",
   "id": "9ecf5e04-904c-4ca1-a733-73abfe693a78",
   "metadata": {},
   "source": [
    "# Project : LCA with python\n",
    "\n",
    "I wiill preform an LCA on the production of smartphone.\n",
    "After that, a contribution analysis should be conducted, as well as visualising the results."
   ]
  },
  {
   "cell_type": "markdown",
   "id": "f4543931-5b9c-4b65-bce2-5244e6c8d1db",
   "metadata": {},
   "source": [
    "# 1. Setting Up \n",
    "Here we need proper packages, databases to conduct LCA. We will conduct three steps which are  \n",
    "\n",
    "\n",
    "(1) Importing relevant packages, \n",
    "\n",
    "(2) Ecoinvent database\n",
    "\n",
    "(3) Create a database for the product (based on the excel file)"
   ]
  },
  {
   "cell_type": "markdown",
   "id": "f01ed2c2",
   "metadata": {},
   "source": [
    "### 1-1. Importing the Relevant packages"
   ]
  },
  {
   "cell_type": "code",
   "execution_count": null,
   "id": "98bbf7f5-7c6a-419b-8940-cdd7aea805aa",
   "metadata": {},
   "outputs": [],
   "source": [
    "# import the packages\n",
    "import bw2data as bd # the data handling brightway package\n",
    "import bw2io as bi # the data input out package, used to import ecoinvent\n",
    "import bw2calc as bc # the package that does the math\n",
    "import bw2analyzer as bwa # used for the iterative calculations\n",
    "from brightway2 import *\n",
    "bw2setup()\n",
    "\n",
    "# Impport basic libraries\n",
    "import matplotlib.pyplot as plt\n",
    "import numpy as np\n",
    "import pandas as pd\n",
    "import seaborn as sns\n",
    "from scipy import stats"
   ]
  },
  {
   "cell_type": "code",
   "execution_count": 2,
   "id": "b319cac6",
   "metadata": {},
   "outputs": [
    {
     "data": {
      "text/plain": [
       "Databases dictionary with 5 object(s):\n",
       "\tDB_Name\n",
       "\tSmartphone\n",
       "\tbiosphere3\n",
       "\tecoinvent\n",
       "\tecoinvent 3.91 cutoff"
      ]
     },
     "execution_count": 2,
     "metadata": {},
     "output_type": "execute_result"
    }
   ],
   "source": [
    "bd.projects.set_current(\"myproject\")\n",
    "bd.databases"
   ]
  },
  {
   "cell_type": "markdown",
   "id": "482d9ba6",
   "metadata": {},
   "source": [
    "### 1-2. Importing Ecoinvent Database"
   ]
  },
  {
   "cell_type": "code",
   "execution_count": 3,
   "id": "bb2826cf",
   "metadata": {},
   "outputs": [
    {
     "name": "stderr",
     "output_type": "stream",
     "text": [
      "Extracting ecospold2 files:\n",
      "0% [##############################] 100% | ETA: 00:00:00 | Item ID: fffede58-fed2-5\n",
      "Total time elapsed: 00:08:11\n"
     ]
    },
    {
     "name": "stdout",
     "output_type": "stream",
     "text": [
      "Title: Extracting ecospold2 files:\n",
      "  Started: 06/17/2024 22:29:31\n",
      "  Finished: 06/17/2024 22:37:43\n",
      "  Total time elapsed: 00:08:11\n",
      "  CPU %: 50.80\n",
      "  Memory %: 36.71\n",
      "Extracted 21238 datasets in 494.26 seconds\n",
      "Applying strategy: normalize_units\n",
      "Applying strategy: update_ecoinvent_locations\n",
      "Applying strategy: remove_zero_amount_coproducts\n",
      "Applying strategy: remove_zero_amount_inputs_with_no_activity\n",
      "Applying strategy: remove_unnamed_parameters\n",
      "Applying strategy: es2_assign_only_product_with_amount_as_reference_product\n",
      "Applying strategy: assign_single_product_as_activity\n",
      "Applying strategy: create_composite_code\n",
      "Applying strategy: drop_unspecified_subcategories\n",
      "Applying strategy: fix_ecoinvent_flows_pre35\n",
      "Applying strategy: drop_temporary_outdated_biosphere_flows\n",
      "Applying strategy: link_biosphere_by_flow_uuid\n",
      "Applying strategy: link_internal_technosphere_by_composite_code\n",
      "Applying strategy: delete_exchanges_missing_activity\n",
      "Applying strategy: delete_ghost_exchanges\n",
      "Applying strategy: remove_uncertainty_from_negative_loss_exchanges\n",
      "Applying strategy: fix_unreasonably_high_lognormal_uncertainties\n",
      "Applying strategy: convert_activity_parameters_to_list\n",
      "Applying strategy: add_cpc_classification_from_single_reference_product\n",
      "Applying strategy: delete_none_synonyms\n",
      "Applying strategy: update_social_flows_in_older_consequential\n",
      "Applying strategy: set_lognormal_loc_value\n",
      "Applied 22 strategies in 9.96 seconds\n",
      "Vacuuming database \n",
      "Vacuuming database \n"
     ]
    },
    {
     "ename": "OperationalError",
     "evalue": "cannot VACUUM from within a transaction",
     "output_type": "error",
     "traceback": [
      "\u001b[1;31m---------------------------------------------------------------------------\u001b[0m",
      "\u001b[1;31mOperationalError\u001b[0m                          Traceback (most recent call last)",
      "File \u001b[1;32m~\\anaconda3_\\Lib\\site-packages\\peewee.py:3311\u001b[0m, in \u001b[0;36mDatabase.execute_sql\u001b[1;34m(self, sql, params, commit)\u001b[0m\n\u001b[0;32m   3310\u001b[0m     cursor \u001b[38;5;241m=\u001b[39m \u001b[38;5;28mself\u001b[39m\u001b[38;5;241m.\u001b[39mcursor()\n\u001b[1;32m-> 3311\u001b[0m     cursor\u001b[38;5;241m.\u001b[39mexecute(sql, params \u001b[38;5;129;01mor\u001b[39;00m ())\n\u001b[0;32m   3312\u001b[0m \u001b[38;5;28;01mreturn\u001b[39;00m cursor\n",
      "\u001b[1;31mOperationalError\u001b[0m: cannot VACUUM from within a transaction",
      "\nDuring handling of the above exception, another exception occurred:\n",
      "\u001b[1;31mOperationalError\u001b[0m                          Traceback (most recent call last)",
      "Cell \u001b[1;32mIn[3], line 4\u001b[0m\n\u001b[0;32m      2\u001b[0m ei \u001b[38;5;241m=\u001b[39m SingleOutputEcospold2Importer(path, \u001b[38;5;124m\"\u001b[39m\u001b[38;5;124mecoinvent\u001b[39m\u001b[38;5;124m\"\u001b[39m)\n\u001b[0;32m      3\u001b[0m ei\u001b[38;5;241m.\u001b[39mapply_strategies()\n\u001b[1;32m----> 4\u001b[0m ei\u001b[38;5;241m.\u001b[39mwrite_database()\n",
      "File \u001b[1;32m~\\anaconda3_\\Lib\\site-packages\\bw2io\\importers\\base_lci.py:273\u001b[0m, in \u001b[0;36mLCIImporter.write_database\u001b[1;34m(self, data, delete_existing, backend, activate_parameters, **kwargs)\u001b[0m\n\u001b[0;32m    270\u001b[0m \u001b[38;5;28mself\u001b[39m\u001b[38;5;241m.\u001b[39mwrite_database_parameters(activate_parameters, delete_existing)\n\u001b[0;32m    272\u001b[0m existing\u001b[38;5;241m.\u001b[39mupdate(data)\n\u001b[1;32m--> 273\u001b[0m db\u001b[38;5;241m.\u001b[39mwrite(existing)\n\u001b[0;32m    275\u001b[0m \u001b[38;5;28;01mif\u001b[39;00m activate_parameters:\n\u001b[0;32m    276\u001b[0m     \u001b[38;5;28mself\u001b[39m\u001b[38;5;241m.\u001b[39m_write_activity_parameters(activity_parameters)\n",
      "File \u001b[1;32m~\\anaconda3_\\Lib\\site-packages\\bw2data\\project.py:358\u001b[0m, in \u001b[0;36mwritable_project\u001b[1;34m(wrapped, instance, args, kwargs)\u001b[0m\n\u001b[0;32m    356\u001b[0m \u001b[38;5;28;01mif\u001b[39;00m projects\u001b[38;5;241m.\u001b[39mread_only:\n\u001b[0;32m    357\u001b[0m     \u001b[38;5;28;01mraise\u001b[39;00m ReadOnlyProject(READ_ONLY_PROJECT)\n\u001b[1;32m--> 358\u001b[0m \u001b[38;5;28;01mreturn\u001b[39;00m wrapped(\u001b[38;5;241m*\u001b[39margs, \u001b[38;5;241m*\u001b[39m\u001b[38;5;241m*\u001b[39mkwargs)\n",
      "File \u001b[1;32m~\\anaconda3_\\Lib\\site-packages\\bw2data\\backends\\peewee\\database.py:260\u001b[0m, in \u001b[0;36mSQLiteBackend.write\u001b[1;34m(self, data, process)\u001b[0m\n\u001b[0;32m    258\u001b[0m \u001b[38;5;28;01mif\u001b[39;00m data:\n\u001b[0;32m    259\u001b[0m     \u001b[38;5;28;01mtry\u001b[39;00m:\n\u001b[1;32m--> 260\u001b[0m         \u001b[38;5;28mself\u001b[39m\u001b[38;5;241m.\u001b[39m_efficient_write_many_data(data)\n\u001b[0;32m    261\u001b[0m     \u001b[38;5;28;01mexcept\u001b[39;00m:\n\u001b[0;32m    262\u001b[0m         \u001b[38;5;66;03m# Purge all data from database, then reraise\u001b[39;00m\n\u001b[0;32m    263\u001b[0m         \u001b[38;5;28mself\u001b[39m\u001b[38;5;241m.\u001b[39mdelete(warn\u001b[38;5;241m=\u001b[39m\u001b[38;5;28;01mFalse\u001b[39;00m)\n",
      "File \u001b[1;32m~\\anaconda3_\\Lib\\site-packages\\bw2data\\backends\\peewee\\database.py:193\u001b[0m, in \u001b[0;36mSQLiteBackend._efficient_write_many_data\u001b[1;34m(self, data, indices)\u001b[0m\n\u001b[0;32m    191\u001b[0m \u001b[38;5;28;01mtry\u001b[39;00m:\n\u001b[0;32m    192\u001b[0m     sqlite3_lci_db\u001b[38;5;241m.\u001b[39mdb\u001b[38;5;241m.\u001b[39mbegin()\n\u001b[1;32m--> 193\u001b[0m     \u001b[38;5;28mself\u001b[39m\u001b[38;5;241m.\u001b[39mdelete(keep_params\u001b[38;5;241m=\u001b[39m\u001b[38;5;28;01mTrue\u001b[39;00m, warn\u001b[38;5;241m=\u001b[39m\u001b[38;5;28;01mFalse\u001b[39;00m)\n\u001b[0;32m    194\u001b[0m     exchanges, activities \u001b[38;5;241m=\u001b[39m [], []\n\u001b[0;32m    196\u001b[0m     \u001b[38;5;28;01mif\u001b[39;00m \u001b[38;5;129;01mnot\u001b[39;00m \u001b[38;5;28mgetattr\u001b[39m(config, \u001b[38;5;124m\"\u001b[39m\u001b[38;5;124mis_test\u001b[39m\u001b[38;5;124m\"\u001b[39m, \u001b[38;5;28;01mNone\u001b[39;00m):\n",
      "File \u001b[1;32m~\\anaconda3_\\Lib\\site-packages\\bw2data\\project.py:358\u001b[0m, in \u001b[0;36mwritable_project\u001b[1;34m(wrapped, instance, args, kwargs)\u001b[0m\n\u001b[0;32m    356\u001b[0m \u001b[38;5;28;01mif\u001b[39;00m projects\u001b[38;5;241m.\u001b[39mread_only:\n\u001b[0;32m    357\u001b[0m     \u001b[38;5;28;01mraise\u001b[39;00m ReadOnlyProject(READ_ONLY_PROJECT)\n\u001b[1;32m--> 358\u001b[0m \u001b[38;5;28;01mreturn\u001b[39;00m wrapped(\u001b[38;5;241m*\u001b[39margs, \u001b[38;5;241m*\u001b[39m\u001b[38;5;241m*\u001b[39mkwargs)\n",
      "File \u001b[1;32m~\\anaconda3_\\Lib\\site-packages\\bw2data\\backends\\peewee\\database.py:349\u001b[0m, in \u001b[0;36mSQLiteBackend.delete\u001b[1;34m(self, keep_params, warn)\u001b[0m\n\u001b[0;32m    346\u001b[0m     DatabaseParameter\u001b[38;5;241m.\u001b[39mdelete()\u001b[38;5;241m.\u001b[39mwhere(DatabaseParameter\u001b[38;5;241m.\u001b[39mdatabase \u001b[38;5;241m==\u001b[39m \u001b[38;5;28mself\u001b[39m\u001b[38;5;241m.\u001b[39mname)\u001b[38;5;241m.\u001b[39mexecute()\n\u001b[0;32m    348\u001b[0m \u001b[38;5;28;01mif\u001b[39;00m vacuum_needed:\n\u001b[1;32m--> 349\u001b[0m     sqlite3_lci_db\u001b[38;5;241m.\u001b[39mvacuum()\n",
      "File \u001b[1;32m~\\anaconda3_\\Lib\\site-packages\\bw2data\\sqlite.py:57\u001b[0m, in \u001b[0;36mSubstitutableDatabase.vacuum\u001b[1;34m(self)\u001b[0m\n\u001b[0;32m     55\u001b[0m \u001b[38;5;28;01mdef\u001b[39;00m \u001b[38;5;21mvacuum\u001b[39m(\u001b[38;5;28mself\u001b[39m):\n\u001b[0;32m     56\u001b[0m     \u001b[38;5;28mprint\u001b[39m(\u001b[38;5;124m\"\u001b[39m\u001b[38;5;124mVacuuming database \u001b[39m\u001b[38;5;124m\"\u001b[39m)\n\u001b[1;32m---> 57\u001b[0m     \u001b[38;5;28mself\u001b[39m\u001b[38;5;241m.\u001b[39mexecute_sql(\u001b[38;5;124m'\u001b[39m\u001b[38;5;124mVACUUM;\u001b[39m\u001b[38;5;124m'\u001b[39m)\n",
      "File \u001b[1;32m~\\anaconda3_\\Lib\\site-packages\\bw2data\\sqlite.py:50\u001b[0m, in \u001b[0;36mSubstitutableDatabase.execute_sql\u001b[1;34m(self, *args, **kwargs)\u001b[0m\n\u001b[0;32m     49\u001b[0m \u001b[38;5;28;01mdef\u001b[39;00m \u001b[38;5;21mexecute_sql\u001b[39m(\u001b[38;5;28mself\u001b[39m, \u001b[38;5;241m*\u001b[39margs, \u001b[38;5;241m*\u001b[39m\u001b[38;5;241m*\u001b[39mkwargs):\n\u001b[1;32m---> 50\u001b[0m     \u001b[38;5;28;01mreturn\u001b[39;00m \u001b[38;5;28mself\u001b[39m\u001b[38;5;241m.\u001b[39mdb\u001b[38;5;241m.\u001b[39mexecute_sql(\u001b[38;5;241m*\u001b[39margs, \u001b[38;5;241m*\u001b[39m\u001b[38;5;241m*\u001b[39mkwargs)\n",
      "File \u001b[1;32m~\\anaconda3_\\Lib\\site-packages\\peewee.py:3309\u001b[0m, in \u001b[0;36mDatabase.execute_sql\u001b[1;34m(self, sql, params, commit)\u001b[0m\n\u001b[0;32m   3307\u001b[0m     __deprecated__(\u001b[38;5;124m'\u001b[39m\u001b[38;5;124m\"\u001b[39m\u001b[38;5;124mcommit\u001b[39m\u001b[38;5;124m\"\u001b[39m\u001b[38;5;124m has been deprecated and is a no-op.\u001b[39m\u001b[38;5;124m'\u001b[39m)\n\u001b[0;32m   3308\u001b[0m logger\u001b[38;5;241m.\u001b[39mdebug((sql, params))\n\u001b[1;32m-> 3309\u001b[0m \u001b[38;5;28;01mwith\u001b[39;00m __exception_wrapper__:\n\u001b[0;32m   3310\u001b[0m     cursor \u001b[38;5;241m=\u001b[39m \u001b[38;5;28mself\u001b[39m\u001b[38;5;241m.\u001b[39mcursor()\n\u001b[0;32m   3311\u001b[0m     cursor\u001b[38;5;241m.\u001b[39mexecute(sql, params \u001b[38;5;129;01mor\u001b[39;00m ())\n",
      "File \u001b[1;32m~\\anaconda3_\\Lib\\site-packages\\peewee.py:3077\u001b[0m, in \u001b[0;36mExceptionWrapper.__exit__\u001b[1;34m(self, exc_type, exc_value, traceback)\u001b[0m\n\u001b[0;32m   3075\u001b[0m new_type \u001b[38;5;241m=\u001b[39m \u001b[38;5;28mself\u001b[39m\u001b[38;5;241m.\u001b[39mexceptions[exc_type\u001b[38;5;241m.\u001b[39m\u001b[38;5;18m__name__\u001b[39m]\n\u001b[0;32m   3076\u001b[0m exc_args \u001b[38;5;241m=\u001b[39m exc_value\u001b[38;5;241m.\u001b[39margs\n\u001b[1;32m-> 3077\u001b[0m reraise(new_type, new_type(exc_value, \u001b[38;5;241m*\u001b[39mexc_args), traceback)\n",
      "File \u001b[1;32m~\\anaconda3_\\Lib\\site-packages\\peewee.py:196\u001b[0m, in \u001b[0;36mreraise\u001b[1;34m(tp, value, tb)\u001b[0m\n\u001b[0;32m    194\u001b[0m \u001b[38;5;28;01mdef\u001b[39;00m \u001b[38;5;21mreraise\u001b[39m(tp, value, tb\u001b[38;5;241m=\u001b[39m\u001b[38;5;28;01mNone\u001b[39;00m):\n\u001b[0;32m    195\u001b[0m     \u001b[38;5;28;01mif\u001b[39;00m value\u001b[38;5;241m.\u001b[39m__traceback__ \u001b[38;5;129;01mis\u001b[39;00m \u001b[38;5;129;01mnot\u001b[39;00m tb:\n\u001b[1;32m--> 196\u001b[0m         \u001b[38;5;28;01mraise\u001b[39;00m value\u001b[38;5;241m.\u001b[39mwith_traceback(tb)\n\u001b[0;32m    197\u001b[0m     \u001b[38;5;28;01mraise\u001b[39;00m value\n",
      "File \u001b[1;32m~\\anaconda3_\\Lib\\site-packages\\peewee.py:3311\u001b[0m, in \u001b[0;36mDatabase.execute_sql\u001b[1;34m(self, sql, params, commit)\u001b[0m\n\u001b[0;32m   3309\u001b[0m \u001b[38;5;28;01mwith\u001b[39;00m __exception_wrapper__:\n\u001b[0;32m   3310\u001b[0m     cursor \u001b[38;5;241m=\u001b[39m \u001b[38;5;28mself\u001b[39m\u001b[38;5;241m.\u001b[39mcursor()\n\u001b[1;32m-> 3311\u001b[0m     cursor\u001b[38;5;241m.\u001b[39mexecute(sql, params \u001b[38;5;129;01mor\u001b[39;00m ())\n\u001b[0;32m   3312\u001b[0m \u001b[38;5;28;01mreturn\u001b[39;00m cursor\n",
      "\u001b[1;31mOperationalError\u001b[0m: cannot VACUUM from within a transaction"
     ]
    }
   ],
   "source": [
    "path = r\"C:\\Users\\Kaayin\\Documents\\Python SoSe24\\MGT001437_project\\Code_LCA_new\\Code_LCA\\ecoinvent 3.9.1_cutoff_ecoSpold02\\datasets\"\n",
    "ei = SingleOutputEcospold2Importer(path, \"ecoinvent\")\n",
    "ei.apply_strategies()\n",
    "ei.write_database()"
   ]
  },
  {
   "cell_type": "markdown",
   "id": "b2d14876",
   "metadata": {},
   "source": [
    "### 1-3. Importing LCI data"
   ]
  },
  {
   "cell_type": "markdown",
   "id": "37aa9288",
   "metadata": {},
   "source": [
    "Bring your Inventory data\n",
    "Then use this codes so your inventory will be linked to ecoinvent data and biosphere."
   ]
  },
  {
   "cell_type": "code",
   "execution_count": 4,
   "id": "650c3187-af95-4dd8-80cc-63752691e09b",
   "metadata": {},
   "outputs": [
    {
     "name": "stdout",
     "output_type": "stream",
     "text": [
      "Extracted 1 worksheets in 0.11 seconds\n",
      "Applying strategy: csv_restore_tuples\n",
      "Applying strategy: csv_restore_booleans\n",
      "Applying strategy: csv_numerize\n",
      "Applying strategy: csv_drop_unknown\n",
      "Applying strategy: csv_add_missing_exchanges_section\n",
      "Applying strategy: normalize_units\n",
      "Applying strategy: normalize_biosphere_categories\n",
      "Applying strategy: normalize_biosphere_names\n",
      "Applying strategy: strip_biosphere_exc_locations\n",
      "Applying strategy: set_code_by_activity_hash\n",
      "Applying strategy: link_iterable_by_fields\n",
      "Applying strategy: assign_only_product_as_production\n",
      "Applying strategy: link_technosphere_by_activity_hash\n",
      "Applying strategy: drop_falsey_uncertainty_fields_but_keep_zeros\n",
      "Applying strategy: convert_uncertainty_types_to_integers\n",
      "Applying strategy: convert_activity_parameters_to_list\n",
      "Applied 16 strategies in 10.08 seconds\n",
      "Applying strategy: link_iterable_by_fields\n",
      "Applying strategy: link_iterable_by_fields\n",
      "Applying strategy: link_iterable_by_fields\n",
      "5 datasets\n",
      "40 exchanges\n",
      "40 unlinked exchanges\n",
      "  Type technosphere: 12 unique unlinked exchanges\n"
     ]
    },
    {
     "data": {
      "text/plain": [
       "(5, 40, 40)"
      ]
     },
     "execution_count": 4,
     "metadata": {},
     "output_type": "execute_result"
    }
   ],
   "source": [
    "# Import the excel LCI for a NMC cells\n",
    "filepath = r\"C:\\Users\\Kaayin\\Documents\\Python SoSe24\\MGT001437_project\\Code_LCA_new\\Code_LCA\\LCI_Example - 2.xlsx\" # path to excel LCI\n",
    "em_importer = bi.ExcelImporter(filepath) # create importer object\n",
    "\n",
    "# Check for empty cells in Excel and remove (thanks to Romain Sacchi)\n",
    "for x in em_importer.data:\n",
    "        for k, v in list(x.items()):\n",
    "            if not v:\n",
    "                del x[k]\n",
    "\n",
    "em_importer.apply_strategies() # apply strategies to process the excel data\n",
    "\n",
    "# we link imported activities to one another first, if needed\n",
    "# on the basis of their name, unit and location\n",
    "em_importer.match_database(fields=[\"name\", \"unit\", \"location\"])\n",
    "\n",
    "# then we link to ecoinvent for the remaining unlinked technosphere exchanges\n",
    "# on the basis of their name, reference product, unit and location\n",
    "em_importer.match_database('ecoinvent 3.91 cutoff',  fields=[\"reference product\", \"name\", \"unit\", \"location\"])\n",
    "\n",
    "# and then we link emission flows to the biosphere database\n",
    "em_importer.match_database('biosphere3',  fields=[\"name\", \"unit\", \"categories\"])\n",
    "\n",
    "# shows stats about unlinked exchanged\n",
    "em_importer.statistics()"
   ]
  },
  {
   "cell_type": "markdown",
   "id": "cd7f6110",
   "metadata": {},
   "source": [
    "Write another database with activity"
   ]
  },
  {
   "cell_type": "code",
   "execution_count": 5,
   "id": "b504263e-9a53-4429-bfb9-fc30c7d803de",
   "metadata": {},
   "outputs": [
    {
     "name": "stderr",
     "output_type": "stream",
     "text": [
      "Writing activities to SQLite3 database:\n"
     ]
    },
    {
     "ename": "InvalidExchange",
     "evalue": "",
     "output_type": "error",
     "traceback": [
      "\u001b[1;31m---------------------------------------------------------------------------\u001b[0m",
      "\u001b[1;31mInvalidExchange\u001b[0m                           Traceback (most recent call last)",
      "Cell \u001b[1;32mIn[5], line 1\u001b[0m\n\u001b[1;32m----> 1\u001b[0m em_importer\u001b[38;5;241m.\u001b[39mwrite_database()\n\u001b[0;32m      2\u001b[0m ems \u001b[38;5;241m=\u001b[39m bd\u001b[38;5;241m.\u001b[39mDatabase(\u001b[38;5;124m'\u001b[39m\u001b[38;5;124mSmartphone\u001b[39m\u001b[38;5;124m'\u001b[39m) \u001b[38;5;66;03m#create object\u001b[39;00m\n\u001b[0;32m      3\u001b[0m \u001b[38;5;28mlist\u001b[39m([act \u001b[38;5;28;01mfor\u001b[39;00m act \u001b[38;5;129;01min\u001b[39;00m ems])\n",
      "File \u001b[1;32m~\\anaconda3_\\Lib\\site-packages\\bw2io\\importers\\excel.py:284\u001b[0m, in \u001b[0;36mExcelImporter.write_database\u001b[1;34m(self, **kwargs)\u001b[0m\n\u001b[0;32m    282\u001b[0m \u001b[38;5;250m\u001b[39m\u001b[38;5;124;03m\"\"\"Same as base ``write_database`` method, but ``activate_parameters`` is True by default.\"\"\"\u001b[39;00m\n\u001b[0;32m    283\u001b[0m kwargs[\u001b[38;5;124m\"\u001b[39m\u001b[38;5;124mactivate_parameters\u001b[39m\u001b[38;5;124m\"\u001b[39m] \u001b[38;5;241m=\u001b[39m kwargs\u001b[38;5;241m.\u001b[39mget(\u001b[38;5;124m\"\u001b[39m\u001b[38;5;124mactivate_parameters\u001b[39m\u001b[38;5;124m\"\u001b[39m, \u001b[38;5;28;01mTrue\u001b[39;00m)\n\u001b[1;32m--> 284\u001b[0m \u001b[38;5;28msuper\u001b[39m(ExcelImporter, \u001b[38;5;28mself\u001b[39m)\u001b[38;5;241m.\u001b[39mwrite_database(\u001b[38;5;241m*\u001b[39m\u001b[38;5;241m*\u001b[39mkwargs)\n",
      "File \u001b[1;32m~\\anaconda3_\\Lib\\site-packages\\bw2io\\importers\\base_lci.py:273\u001b[0m, in \u001b[0;36mLCIImporter.write_database\u001b[1;34m(self, data, delete_existing, backend, activate_parameters, **kwargs)\u001b[0m\n\u001b[0;32m    270\u001b[0m \u001b[38;5;28mself\u001b[39m\u001b[38;5;241m.\u001b[39mwrite_database_parameters(activate_parameters, delete_existing)\n\u001b[0;32m    272\u001b[0m existing\u001b[38;5;241m.\u001b[39mupdate(data)\n\u001b[1;32m--> 273\u001b[0m db\u001b[38;5;241m.\u001b[39mwrite(existing)\n\u001b[0;32m    275\u001b[0m \u001b[38;5;28;01mif\u001b[39;00m activate_parameters:\n\u001b[0;32m    276\u001b[0m     \u001b[38;5;28mself\u001b[39m\u001b[38;5;241m.\u001b[39m_write_activity_parameters(activity_parameters)\n",
      "File \u001b[1;32m~\\anaconda3_\\Lib\\site-packages\\bw2data\\project.py:358\u001b[0m, in \u001b[0;36mwritable_project\u001b[1;34m(wrapped, instance, args, kwargs)\u001b[0m\n\u001b[0;32m    356\u001b[0m \u001b[38;5;28;01mif\u001b[39;00m projects\u001b[38;5;241m.\u001b[39mread_only:\n\u001b[0;32m    357\u001b[0m     \u001b[38;5;28;01mraise\u001b[39;00m ReadOnlyProject(READ_ONLY_PROJECT)\n\u001b[1;32m--> 358\u001b[0m \u001b[38;5;28;01mreturn\u001b[39;00m wrapped(\u001b[38;5;241m*\u001b[39margs, \u001b[38;5;241m*\u001b[39m\u001b[38;5;241m*\u001b[39mkwargs)\n",
      "File \u001b[1;32m~\\anaconda3_\\Lib\\site-packages\\bw2data\\backends\\peewee\\database.py:260\u001b[0m, in \u001b[0;36mSQLiteBackend.write\u001b[1;34m(self, data, process)\u001b[0m\n\u001b[0;32m    258\u001b[0m \u001b[38;5;28;01mif\u001b[39;00m data:\n\u001b[0;32m    259\u001b[0m     \u001b[38;5;28;01mtry\u001b[39;00m:\n\u001b[1;32m--> 260\u001b[0m         \u001b[38;5;28mself\u001b[39m\u001b[38;5;241m.\u001b[39m_efficient_write_many_data(data)\n\u001b[0;32m    261\u001b[0m     \u001b[38;5;28;01mexcept\u001b[39;00m:\n\u001b[0;32m    262\u001b[0m         \u001b[38;5;66;03m# Purge all data from database, then reraise\u001b[39;00m\n\u001b[0;32m    263\u001b[0m         \u001b[38;5;28mself\u001b[39m\u001b[38;5;241m.\u001b[39mdelete(warn\u001b[38;5;241m=\u001b[39m\u001b[38;5;28;01mFalse\u001b[39;00m)\n",
      "File \u001b[1;32m~\\anaconda3_\\Lib\\site-packages\\bw2data\\backends\\peewee\\database.py:204\u001b[0m, in \u001b[0;36mSQLiteBackend._efficient_write_many_data\u001b[1;34m(self, data, indices)\u001b[0m\n\u001b[0;32m    197\u001b[0m     \u001b[38;5;28mself\u001b[39m\u001b[38;5;241m.\u001b[39mpbar \u001b[38;5;241m=\u001b[39m pyprind\u001b[38;5;241m.\u001b[39mProgBar(\n\u001b[0;32m    198\u001b[0m         \u001b[38;5;28mlen\u001b[39m(data),\n\u001b[0;32m    199\u001b[0m         title\u001b[38;5;241m=\u001b[39m\u001b[38;5;124m\"\u001b[39m\u001b[38;5;124mWriting activities to SQLite3 database:\u001b[39m\u001b[38;5;124m\"\u001b[39m,\n\u001b[0;32m    200\u001b[0m         monitor\u001b[38;5;241m=\u001b[39m\u001b[38;5;28;01mTrue\u001b[39;00m\n\u001b[0;32m    201\u001b[0m     )\n\u001b[0;32m    203\u001b[0m \u001b[38;5;28;01mfor\u001b[39;00m index, (key, ds) \u001b[38;5;129;01min\u001b[39;00m \u001b[38;5;28menumerate\u001b[39m(data\u001b[38;5;241m.\u001b[39mitems()):\n\u001b[1;32m--> 204\u001b[0m     exchanges, activities \u001b[38;5;241m=\u001b[39m \u001b[38;5;28mself\u001b[39m\u001b[38;5;241m.\u001b[39m_efficient_write_dataset(\n\u001b[0;32m    205\u001b[0m         index, key, ds, exchanges, activities\n\u001b[0;32m    206\u001b[0m     )\n\u001b[0;32m    208\u001b[0m \u001b[38;5;28;01mif\u001b[39;00m \u001b[38;5;129;01mnot\u001b[39;00m \u001b[38;5;28mgetattr\u001b[39m(config, \u001b[38;5;124m\"\u001b[39m\u001b[38;5;124mis_test\u001b[39m\u001b[38;5;124m\"\u001b[39m, \u001b[38;5;28;01mNone\u001b[39;00m):\n\u001b[0;32m    209\u001b[0m     \u001b[38;5;28mprint\u001b[39m(\u001b[38;5;28mself\u001b[39m\u001b[38;5;241m.\u001b[39mpbar)\n",
      "File \u001b[1;32m~\\anaconda3_\\Lib\\site-packages\\bw2data\\backends\\peewee\\database.py:156\u001b[0m, in \u001b[0;36mSQLiteBackend._efficient_write_dataset\u001b[1;34m(self, index, key, ds, exchanges, activities)\u001b[0m\n\u001b[0;32m    154\u001b[0m \u001b[38;5;28;01mfor\u001b[39;00m exchange \u001b[38;5;129;01min\u001b[39;00m ds\u001b[38;5;241m.\u001b[39mget(\u001b[38;5;124m'\u001b[39m\u001b[38;5;124mexchanges\u001b[39m\u001b[38;5;124m'\u001b[39m, []):\n\u001b[0;32m    155\u001b[0m     \u001b[38;5;28;01mif\u001b[39;00m \u001b[38;5;124m'\u001b[39m\u001b[38;5;124minput\u001b[39m\u001b[38;5;124m'\u001b[39m \u001b[38;5;129;01mnot\u001b[39;00m \u001b[38;5;129;01min\u001b[39;00m exchange \u001b[38;5;129;01mor\u001b[39;00m \u001b[38;5;124m'\u001b[39m\u001b[38;5;124mamount\u001b[39m\u001b[38;5;124m'\u001b[39m \u001b[38;5;129;01mnot\u001b[39;00m \u001b[38;5;129;01min\u001b[39;00m exchange:\n\u001b[1;32m--> 156\u001b[0m         \u001b[38;5;28;01mraise\u001b[39;00m InvalidExchange\n\u001b[0;32m    157\u001b[0m     \u001b[38;5;28;01mif\u001b[39;00m \u001b[38;5;124m'\u001b[39m\u001b[38;5;124mtype\u001b[39m\u001b[38;5;124m'\u001b[39m \u001b[38;5;129;01mnot\u001b[39;00m \u001b[38;5;129;01min\u001b[39;00m exchange:\n\u001b[0;32m    158\u001b[0m         \u001b[38;5;28;01mraise\u001b[39;00m UntypedExchange\n",
      "\u001b[1;31mInvalidExchange\u001b[0m: "
     ]
    }
   ],
   "source": [
    "em_importer.write_database()\n",
    "ems = bd.Database('Smartphone') #create object\n",
    "list([act for act in ems])\n",
    "India_act = ems.search('India')[0]\n",
    "Brazil_act = ems.search('Brazil')[0]\n",
    "Europe_act = ems.search('Europe')[0]\n",
    "US_act = ems.search('USA')[0]\n",
    "China_act = ems.search('China')[0]"
   ]
  },
  {
   "cell_type": "markdown",
   "id": "cf030cbd-aa0d-4792-a654-687b6a4fcc4e",
   "metadata": {},
   "source": [
    "# 2. Selecting an Impact Category Method\n",
    "\n",
    "Due to its common use, we chose to pick an LCA method from the \"ReCiPe 2016 v1.03\" library. There are many methods that calculate GWP, so we plot preliminary results on IPMSM machine production to compare the differences. In the end, we choose the method \"ReCiPe 2016 v1.03, midpoint (I) no LT\"."
   ]
  },
  {
   "cell_type": "markdown",
   "id": "d5305b9c",
   "metadata": {},
   "source": [
    "### 2-1. Selecting Method"
   ]
  },
  {
   "cell_type": "code",
   "execution_count": null,
   "id": "5cbc4ad7",
   "metadata": {},
   "outputs": [],
   "source": [
    "us_meth=[met for met in bd.methods if 'ReCiPe 2016 v1.03, midpoint (E) no LT' in met[0] ]\n",
    "us_meth = us_meth\n",
    "print(us_meth)"
   ]
  },
  {
   "cell_type": "code",
   "execution_count": null,
   "id": "fca1ec24",
   "metadata": {},
   "outputs": [],
   "source": [
    "for method in us_meth:\n",
    "    impact= method\n",
    "    unit = bd.methods.get(method).get('unit')\n",
    "    print(impact)\n",
    "    print(unit)"
   ]
  },
  {
   "cell_type": "markdown",
   "id": "2910a56c",
   "metadata": {},
   "source": [
    "# 3. Conduct LCA"
   ]
  },
  {
   "cell_type": "code",
   "execution_count": null,
   "id": "0e8e8702",
   "metadata": {},
   "outputs": [],
   "source": [
    "result = []\n",
    "activity = [India_act, Brazil_act, Europe_act, US_act, China_act]\n",
    "for act in activity:\n",
    "    for method in us_meth:\n",
    "        # perform lca for nmc cells at pack level\n",
    "        lca = bc.LCA({act:1}, method)\n",
    "        lca.lci()\n",
    "        lca.lcia()\n",
    "        result.append({'name' : act['name'],\n",
    "                        'Score':lca.score,\n",
    "                        'Impact Category':method,\n",
    "                        'unit':bd.methods.get(method).get('unit')})"
   ]
  },
  {
   "cell_type": "code",
   "execution_count": null,
   "id": "c2977342",
   "metadata": {},
   "outputs": [],
   "source": [
    "result_df = pd.DataFrame(result)\n",
    "result_df"
   ]
  },
  {
   "cell_type": "markdown",
   "id": "91b430e0",
   "metadata": {},
   "source": [
    "# 4. Exporting the data"
   ]
  },
  {
   "cell_type": "code",
   "execution_count": null,
   "id": "e44fc663",
   "metadata": {},
   "outputs": [],
   "source": [
    "result_df.to_csv('result.csv', index=False)\n",
    "\n",
    "print(\"DataFrame exported to 'result.csv' successfully.\")"
   ]
  }
 ],
 "metadata": {
  "kernelspec": {
   "display_name": "Python 3 (ipykernel)",
   "language": "python",
   "name": "python3"
  },
  "language_info": {
   "codemirror_mode": {
    "name": "ipython",
    "version": 3
   },
   "file_extension": ".py",
   "mimetype": "text/x-python",
   "name": "python",
   "nbconvert_exporter": "python",
   "pygments_lexer": "ipython3",
   "version": "3.11.7"
  }
 },
 "nbformat": 4,
 "nbformat_minor": 5
}
