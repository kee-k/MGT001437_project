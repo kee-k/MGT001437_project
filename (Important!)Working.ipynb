{
 "cells": [
  {
   "cell_type": "markdown",
   "id": "9ecf5e04-904c-4ca1-a733-73abfe693a78",
   "metadata": {},
   "source": [
    "# Project : LCA with python\n",
    "\n",
    "I wiill preform an LCA on the production and use phases of two types of electric machines, based on the impact category of global warming potential. \n",
    "\n",
    "After that, a contribution analysis should be conducted, as well as visualising the results."
   ]
  },
  {
   "cell_type": "markdown",
   "id": "f4543931-5b9c-4b65-bce2-5244e6c8d1db",
   "metadata": {},
   "source": [
    "# 1. Setting Up \n",
    "Here we need proper packages, databases to conduct LCA. We will conduct three steps which are  \n",
    "\n",
    "\n",
    "(1) Importing relevant packages, \n",
    "\n",
    "(2) Ecoinvent database\n",
    "\n",
    "(3) Create a database for the product (based on the excel file)"
   ]
  },
  {
   "cell_type": "markdown",
   "id": "f01ed2c2",
   "metadata": {},
   "source": [
    "### 1-1. Importing the Relevant packages"
   ]
  },
  {
   "cell_type": "code",
   "execution_count": 1,
   "id": "98bbf7f5-7c6a-419b-8940-cdd7aea805aa",
   "metadata": {},
   "outputs": [],
   "source": [
    "# import the packages\n",
    "import bw2data as bd # the data handling brightway package\n",
    "import bw2io as bi # the data input out package, used to import ecoinvent\n",
    "import bw2calc as bc # the package that does the math\n",
    "import bw2analyzer as bwa # used for the iterative calculations\n",
    "from brightway2 import *\n",
    "\n",
    "# Impport basic libraries\n",
    "import matplotlib.pyplot as plt\n",
    "import numpy as np\n",
    "import pandas as pd\n",
    "import seaborn as sns\n",
    "from scipy import stats"
   ]
  },
  {
   "cell_type": "code",
   "execution_count": 2,
   "id": "b319cac6",
   "metadata": {},
   "outputs": [
    {
     "data": {
      "text/plain": [
       "Databases dictionary with 5 object(s):\n",
       "\tDB_Name\n",
       "\tElectric Machines\n",
       "\tbiosphere3\n",
       "\tecoinvent 3.9 cutoff\n",
       "\tecoinvent 3.91 cutoff"
      ]
     },
     "execution_count": 2,
     "metadata": {},
     "output_type": "execute_result"
    }
   ],
   "source": [
    "bd.projects.set_current(\"myproject\")\n",
    "bd.databases"
   ]
  },
  {
   "cell_type": "markdown",
   "id": "482d9ba6",
   "metadata": {},
   "source": [
    "### 1-2. Importing Ecoinvent Database"
   ]
  },
  {
   "cell_type": "code",
   "execution_count": 4,
   "id": "bb2826cf",
   "metadata": {},
   "outputs": [
    {
     "name": "stderr",
     "output_type": "stream",
     "text": [
      "Extracting ecospold2 files:\n",
      "0% [##############################] 100% | ETA: 00:00:00 | Item ID: fffede58-fed2-5\n",
      "Total time elapsed: 00:06:06\n"
     ]
    },
    {
     "name": "stdout",
     "output_type": "stream",
     "text": [
      "Title: Extracting ecospold2 files:\n",
      "  Started: 05/27/2024 13:30:58\n",
      "  Finished: 05/27/2024 13:37:05\n",
      "  Total time elapsed: 00:06:06\n",
      "  CPU %: 13.10\n",
      "  Memory %: 20.64\n",
      "Extracted 21238 datasets in 368.26 seconds\n",
      "Applying strategy: normalize_units\n",
      "Applying strategy: update_ecoinvent_locations\n",
      "Applying strategy: remove_zero_amount_coproducts\n",
      "Applying strategy: remove_zero_amount_inputs_with_no_activity\n",
      "Applying strategy: remove_unnamed_parameters\n",
      "Applying strategy: es2_assign_only_product_with_amount_as_reference_product\n",
      "Applying strategy: assign_single_product_as_activity\n",
      "Applying strategy: create_composite_code\n",
      "Applying strategy: drop_unspecified_subcategories\n",
      "Applying strategy: fix_ecoinvent_flows_pre35\n",
      "Applying strategy: drop_temporary_outdated_biosphere_flows\n",
      "Applying strategy: link_biosphere_by_flow_uuid\n",
      "Applying strategy: link_internal_technosphere_by_composite_code\n",
      "Applying strategy: delete_exchanges_missing_activity\n",
      "Applying strategy: delete_ghost_exchanges\n",
      "Applying strategy: remove_uncertainty_from_negative_loss_exchanges\n",
      "Applying strategy: fix_unreasonably_high_lognormal_uncertainties\n",
      "Applying strategy: convert_activity_parameters_to_list\n",
      "Applying strategy: add_cpc_classification_from_single_reference_product\n",
      "Applying strategy: delete_none_synonyms\n",
      "Applying strategy: update_social_flows_in_older_consequential\n",
      "Applying strategy: set_lognormal_loc_value\n",
      "Applied 22 strategies in 7.74 seconds\n"
     ]
    },
    {
     "name": "stderr",
     "output_type": "stream",
     "text": [
      "Writing activities to SQLite3 database:\n",
      "0% [##############################] 100% | ETA: 00:00:00\n",
      "Total time elapsed: 00:00:41\n"
     ]
    },
    {
     "name": "stdout",
     "output_type": "stream",
     "text": [
      "Title: Writing activities to SQLite3 database:\n",
      "  Started: 05/27/2024 13:37:15\n",
      "  Finished: 05/27/2024 13:37:56\n",
      "  Total time elapsed: 00:00:41\n",
      "  CPU %: 43.00\n",
      "  Memory %: 21.55\n",
      "Created database: ecoinvent 3.91 cutoff\n"
     ]
    },
    {
     "data": {
      "text/plain": [
       "Brightway2 SQLiteBackend: ecoinvent 3.91 cutoff"
      ]
     },
     "execution_count": 4,
     "metadata": {},
     "output_type": "execute_result"
    }
   ],
   "source": [
    "path = r\"C:\\Users\\User\\Song\\ecoinvent 3.9.1_cutoff_ecoSpold02\\datasets\"\n",
    "ei = SingleOutputEcospold2Importer(path, \"ecoinvent 3.91 cutoff\")\n",
    "ei.apply_strategies()\n",
    "ei.write_database()"
   ]
  },
  {
   "cell_type": "markdown",
   "id": "b2d14876",
   "metadata": {},
   "source": [
    "### 1-3. Importing LCI data"
   ]
  },
  {
   "cell_type": "markdown",
   "id": "37aa9288",
   "metadata": {},
   "source": [
    "Bring your Inventory data\n",
    "Then use this codes so your inventory will be linked to ecoinvent data and biosphere."
   ]
  },
  {
   "cell_type": "code",
   "execution_count": 25,
   "id": "650c3187-af95-4dd8-80cc-63752691e09b",
   "metadata": {},
   "outputs": [
    {
     "name": "stdout",
     "output_type": "stream",
     "text": [
      "Extracted 1 worksheets in 0.01 seconds\n",
      "Applying strategy: csv_restore_tuples\n",
      "Applying strategy: csv_restore_booleans\n",
      "Applying strategy: csv_numerize\n",
      "Applying strategy: csv_drop_unknown\n",
      "Applying strategy: csv_add_missing_exchanges_section\n",
      "Applying strategy: normalize_units\n",
      "Applying strategy: normalize_biosphere_categories\n",
      "Applying strategy: normalize_biosphere_names\n",
      "Applying strategy: strip_biosphere_exc_locations\n",
      "Applying strategy: set_code_by_activity_hash\n",
      "Applying strategy: link_iterable_by_fields\n",
      "Applying strategy: assign_only_product_as_production\n",
      "Applying strategy: link_technosphere_by_activity_hash\n",
      "Applying strategy: drop_falsey_uncertainty_fields_but_keep_zeros\n",
      "Applying strategy: convert_uncertainty_types_to_integers\n",
      "Applying strategy: convert_activity_parameters_to_list\n",
      "Applied 16 strategies in 5.28 seconds\n",
      "Applying strategy: link_iterable_by_fields\n",
      "Applying strategy: link_iterable_by_fields\n",
      "Applying strategy: link_iterable_by_fields\n",
      "2 datasets\n",
      "4 exchanges\n",
      "0 unlinked exchanges\n",
      "  \n"
     ]
    },
    {
     "data": {
      "text/plain": [
       "(2, 4, 0)"
      ]
     },
     "execution_count": 25,
     "metadata": {},
     "output_type": "execute_result"
    }
   ],
   "source": [
    "# Import the excel LCI for a NMC cells\n",
    "filepath = r\"./LCI_Example.xlsx\" # path to excel LCI\n",
    "em_importer = bi.ExcelImporter(filepath) # create importer object\n",
    "\n",
    "# Check for empty cells in Excel and remove (thanks to Romain Sacchi)\n",
    "for x in em_importer.data:\n",
    "        for k, v in list(x.items()):\n",
    "            if not v:\n",
    "                del x[k]\n",
    "\n",
    "em_importer.apply_strategies() # apply strategies to process the excel data\n",
    "\n",
    "# we link imported activities to one another first, if needed\n",
    "# on the basis of their name, unit and location\n",
    "em_importer.match_database(fields=[\"name\", \"unit\", \"location\"])\n",
    "\n",
    "# then we link to ecoinvent for the remaining unlinked technosphere exchanges\n",
    "# on the basis of their name, reference product, unit and location\n",
    "em_importer.match_database('ecoinvent 3.91 cutoff',  fields=[\"reference product\", \"name\", \"unit\", \"location\"])\n",
    "\n",
    "# and then we link emission flows to the biosphere database\n",
    "em_importer.match_database('biosphere3',  fields=[\"name\", \"unit\", \"categories\"])\n",
    "\n",
    "# shows stats about unlinked exchanged\n",
    "em_importer.statistics()"
   ]
  },
  {
   "cell_type": "code",
   "execution_count": 26,
   "id": "65b7142b-910b-462f-8029-01230038ca94",
   "metadata": {},
   "outputs": [
    {
     "name": "stderr",
     "output_type": "stream",
     "text": [
      "Writing activities to SQLite3 database:\n",
      "0% [##] 100% | ETA: 00:00:00\n",
      "Total time elapsed: 00:00:00\n"
     ]
    },
    {
     "name": "stdout",
     "output_type": "stream",
     "text": [
      "Title: Writing activities to SQLite3 database:\n",
      "  Started: 05/27/2024 13:59:41\n",
      "  Finished: 05/27/2024 13:59:41\n",
      "  Total time elapsed: 00:00:00\n",
      "  CPU %: 0.00\n",
      "  Memory %: 22.77\n",
      "Created database: DB_Name\n"
     ]
    },
    {
     "data": {
      "text/plain": [
       "Databases dictionary with 5 object(s):\n",
       "\tDB_Name\n",
       "\tElectric Machines\n",
       "\tbiosphere3\n",
       "\tecoinvent 3.9 cutoff\n",
       "\tecoinvent 3.91 cutoff"
      ]
     },
     "execution_count": 26,
     "metadata": {},
     "output_type": "execute_result"
    }
   ],
   "source": [
    "em_importer.write_database()\n",
    "bd.databases"
   ]
  },
  {
   "cell_type": "code",
   "execution_count": 27,
   "id": "b504263e-9a53-4429-bfb9-fc30c7d803de",
   "metadata": {},
   "outputs": [
    {
     "data": {
      "text/plain": [
       "['activity2' (unit, GLO, None), 'activity1' (unit, GLO, None)]"
      ]
     },
     "execution_count": 27,
     "metadata": {},
     "output_type": "execute_result"
    }
   ],
   "source": [
    "ems = bd.Database('DB_Name') #create object\n",
    "list([act for act in ems])"
   ]
  },
  {
   "cell_type": "markdown",
   "id": "cf030cbd-aa0d-4792-a654-687b6a4fcc4e",
   "metadata": {},
   "source": [
    "# 2. Selecting an Impact Category Method\n",
    "\n",
    "Due to its common use, we chose to pick an LCA method from the \"ReCiPe 2016 v1.03\" library. There are many methods that calculate GWP, so we plot preliminary results on IPMSM machine production to compare the differences. In the end, we choose the method \"ReCiPe 2016 v1.03, midpoint (I) no LT\"."
   ]
  },
  {
   "cell_type": "markdown",
   "id": "d5305b9c",
   "metadata": {},
   "source": [
    "### 2-1. Check what method data is in here"
   ]
  },
  {
   "cell_type": "code",
   "execution_count": 28,
   "id": "54f06d4b",
   "metadata": {},
   "outputs": [
    {
     "name": "stdout",
     "output_type": "stream",
     "text": [
      "                    name                        category  \\\n",
      "0    CML v4.8 2016 no LT             acidification no LT   \n",
      "1    CML v4.8 2016 no LT            climate change no LT   \n",
      "2    CML v4.8 2016 no LT   ecotoxicity: freshwater no LT   \n",
      "3    CML v4.8 2016 no LT       ecotoxicity: marine no LT   \n",
      "4    CML v4.8 2016 no LT  ecotoxicity: terrestrial no LT   \n",
      "..                   ...                             ...   \n",
      "757              EN15804   inventory indicators ISO21930   \n",
      "758              EN15804   inventory indicators ISO21930   \n",
      "759              EN15804   inventory indicators ISO21930   \n",
      "760              EN15804   inventory indicators ISO21930   \n",
      "761              EN15804   inventory indicators ISO21930   \n",
      "\n",
      "                                           description  \\\n",
      "0    acidification (incl. fate, average Europe tota...   \n",
      "1              global warming potential (GWP100) no LT   \n",
      "2     freshwater aquatic ecotoxicity (FAETP inf) no LT   \n",
      "3         marine aquatic ecotoxicity (MAETP inf) no LT   \n",
      "4             terrestrial ecotoxicity (TETP inf) no LT   \n",
      "..                                                 ...   \n",
      "757                             use of net fresh water   \n",
      "758                   use of renewable secondary fuels   \n",
      "759                          use of secondary material   \n",
      "760  Cumulative Energy Demand - renewable energy re...   \n",
      "761  Cumulative Energy Demand - non-renewable energ...   \n",
      "\n",
      "                                                  data  \n",
      "0    [((biosphere3, 9990b51b-7023-4700-bca0-1a32ef9...  \n",
      "1    [((biosphere3, f9749677-9c9f-4678-ab55-c607dfd...  \n",
      "2    [((biosphere3, f681eb3c-854a-4f78-bcfe-76dfbcf...  \n",
      "3    [((biosphere3, f681eb3c-854a-4f78-bcfe-76dfbcf...  \n",
      "4    [((biosphere3, f681eb3c-854a-4f78-bcfe-76dfbcf...  \n",
      "..                                                 ...  \n",
      "757  [((biosphere3, 2404b41a-2eed-4e9d-8ab6-783946f...  \n",
      "758  [((biosphere3, 7f32eee2-90d7-485b-8a28-9d3466b...  \n",
      "759  [((biosphere3, 514d8ebd-24d9-40fb-a037-5bc0f89...  \n",
      "760  [((biosphere3, 01c12fca-ad8b-4902-8b48-2d5afe3...  \n",
      "761  [((biosphere3, 5666353e-2db2-41d3-8414-4047091...  \n",
      "\n",
      "[762 rows x 4 columns]\n"
     ]
    }
   ],
   "source": [
    "# Assuming `bd.method` is a Brightway2 database object with methods\n",
    "methods_data = []\n",
    "\n",
    "# Loop over methods and collect data\n",
    "for method in bd.methods:\n",
    "    method_data = bd.Method(method).load()  # This loads the method data\n",
    "    methods_data.append({\n",
    "        'name': method[0],\n",
    "        'category': method[1],\n",
    "        'description': method[2],\n",
    "        'data': method_data\n",
    "    })\n",
    "\n",
    "# Now, convert the list of dictionaries into a DataFrame\n",
    "df = pd.DataFrame(methods_data)\n",
    "print(df)\n",
    "# This DataFrame will have the method names, categories, descriptions, and the actual method data.\n",
    "\n",
    "# Define the file path for the Excel file\n",
    "excel_path = r'C:\\Users\\User\\Song\\data.xlsx'\n",
    "\n",
    "# Export the DataFrame to an Excel file\n",
    "df.to_excel(excel_path, index=False)\n",
    "\n",
    "# Inform the user of the file path\n",
    "#print(f\"DataFrame has been exported to {excel_path}\")"
   ]
  },
  {
   "cell_type": "markdown",
   "id": "9e27d634",
   "metadata": {},
   "source": [
    "### 2-2. Choose proper method"
   ]
  },
  {
   "cell_type": "code",
   "execution_count": null,
   "id": "dd90e3d2",
   "metadata": {},
   "outputs": [],
   "source": []
  },
  {
   "cell_type": "code",
   "execution_count": 29,
   "id": "8b4a4d88",
   "metadata": {},
   "outputs": [
    {
     "name": "stdout",
     "output_type": "stream",
     "text": [
      "[('ReCiPe 2016 v1.03, midpoint (E) no LT', 'climate change no LT', 'global warming potential (GWP1000) no LT'), ('ReCiPe 2016 v1.03, midpoint (E)', 'climate change', 'global warming potential (GWP1000)'), ('ReCiPe 2016 v1.03, midpoint (H) no LT', 'climate change no LT', 'global warming potential (GWP1000) no LT'), ('ReCiPe 2016 v1.03, midpoint (H)', 'climate change', 'global warming potential (GWP1000)'), ('ReCiPe 2016 v1.03, midpoint (I) no LT', 'climate change no LT', 'global warming potential (GWP1000) no LT'), ('ReCiPe 2016 v1.03, midpoint (I)', 'climate change', 'global warming potential (GWP1000)')]\n"
     ]
    }
   ],
   "source": [
    "#Select Method\n",
    "us_meth=[met for met in bd.methods if 'ReCiPe 2016 v1.03' in met[0] and\n",
    "        'climate change' in met[1]]\n",
    "# We take just the element of the list, instead of the list object, to make further calculations easier\n",
    "lca_method = us_meth\n",
    "print(lca_method)"
   ]
  },
  {
   "cell_type": "code",
   "execution_count": 34,
   "id": "41b23e66",
   "metadata": {},
   "outputs": [
    {
     "name": "stdout",
     "output_type": "stream",
     "text": [
      "'activity1' (unit, GLO, None)\n",
      "'activity2' (unit, GLO, None)\n"
     ]
    }
   ],
   "source": [
    "# Seperating the production and use activities \n",
    "act1 = ems.search('activity1')[0]\n",
    "print(act1)\n",
    "act2= ems.search('activity2')[0]\n",
    "print(act2)"
   ]
  },
  {
   "cell_type": "markdown",
   "id": "2910a56c",
   "metadata": {},
   "source": [
    "# 3. Conduct LCA"
   ]
  },
  {
   "cell_type": "code",
   "execution_count": 39,
   "id": "978b64fd-8f3b-4d7f-b3b2-f3beeb4e75ee",
   "metadata": {},
   "outputs": [
    {
     "name": "stdout",
     "output_type": "stream",
     "text": [
      "The activity1 process accounts for 276138.940314 kg CO2-Eq.\n",
      "The activity1 process accounts for 276138.954819 kg CO2-Eq.\n",
      "The activity1 process accounts for 300524.249722 kg CO2-Eq.\n",
      "The activity1 process accounts for 300524.290759 kg CO2-Eq.\n",
      "The activity1 process accounts for 340570.442602 kg CO2-Eq.\n",
      "The activity1 process accounts for 340570.479524 kg CO2-Eq.\n"
     ]
    }
   ],
   "source": [
    "result = []\n",
    "for method in us_meth:\n",
    "    # perform lca for nmc cells at pack level\n",
    "    lca = bc.LCA({act1:1}, method)\n",
    "    lca.lci()\n",
    "    lca.lcia()\n",
    "    \n",
    "    # Show the output\n",
    "    print(\"The {} process accounts for {:f} {}.\".format(\n",
    "        act1['name'],\n",
    "        lca.score,\n",
    "        bd.methods.get(method).get('unit')\n",
    "        ))\n",
    "    # Create a result dict\n",
    "    if '(E)' in method[0]:\n",
    "        midpoint='E'\n",
    "    elif '(H)' in method[0]:\n",
    "        midpoint='H'\n",
    "    elif '(I)' in method[0]:\n",
    "        midpoint='I'\n",
    "\n",
    "    if 'no LT' in method[0]:\n",
    "        midpoint = midpoint + ' no LT'\n",
    "    else:\n",
    "        midpoint = midpoint + ' with LT'\n",
    "    result.append({'name' : act1['name'],\n",
    "                   'Score':lca.score,\n",
    "                   'Midpoint':midpoint,\n",
    "                   'unit':bd.methods.get(method).get('unit')})\n",
    "\n",
    "result_df1 = pd.DataFrame(result)"
   ]
  },
  {
   "cell_type": "code",
   "execution_count": 40,
   "id": "c8646202",
   "metadata": {},
   "outputs": [
    {
     "name": "stdout",
     "output_type": "stream",
     "text": [
      "The activity2 process accounts for 106.162004 kg CO2-Eq.\n",
      "The activity2 process accounts for 106.162011 kg CO2-Eq.\n",
      "The activity2 process accounts for 117.278973 kg CO2-Eq.\n",
      "The activity2 process accounts for 117.278989 kg CO2-Eq.\n",
      "The activity2 process accounts for 135.572075 kg CO2-Eq.\n",
      "The activity2 process accounts for 135.572090 kg CO2-Eq.\n"
     ]
    }
   ],
   "source": [
    "result = []\n",
    "for method in us_meth:\n",
    "    # perform lca for nmc cells at pack level\n",
    "    lca = bc.LCA({act2:1}, method)\n",
    "    lca.lci()\n",
    "    lca.lcia()\n",
    "    \n",
    "    # Show the output\n",
    "    print(\"The {} process accounts for {:f} {}.\".format(\n",
    "        act2['name'],\n",
    "        lca.score,\n",
    "        bd.methods.get(method).get('unit')\n",
    "        ))\n",
    "    # Create a result dict\n",
    "    if '(E)' in method[0]:\n",
    "        midpoint='E'\n",
    "    elif '(H)' in method[0]:\n",
    "        midpoint='H'\n",
    "    elif '(I)' in method[0]:\n",
    "        midpoint='I'\n",
    "\n",
    "    if 'no LT' in method[0]:\n",
    "        midpoint = midpoint + ' no LT'\n",
    "    else:\n",
    "        midpoint = midpoint + ' with LT'\n",
    "    result.append({'name' : act2['name'],\n",
    "                   'Score':lca.score,\n",
    "                   'Midpoint':midpoint,\n",
    "                   'unit':bd.methods.get(method).get('unit')})\n",
    "\n",
    "result_df2 = pd.DataFrame(result)"
   ]
  },
  {
   "cell_type": "code",
   "execution_count": 38,
   "id": "80d70b56",
   "metadata": {},
   "outputs": [
    {
     "data": {
      "text/plain": [
       "<function matplotlib.pyplot.show(close=None, block=None)>"
      ]
     },
     "execution_count": 38,
     "metadata": {},
     "output_type": "execute_result"
    },
    {
     "data": {
      "image/png": "[encoded data removed]",
      "text/plain": [
       "<Figure size 640x480 with 1 Axes>"
      ]
     },
     "metadata": {},
     "output_type": "display_data"
    }
   ],
   "source": [
    "# Plot the results\n",
    "ax=sns.barplot(data=result_df, x='Midpoint', y='Score')\n",
    "ax.bar_label(ax.containers[0], fontsize=10);\n",
    "plt.tick_params(\n",
    "    axis='y',          # changes apply to the x-axis\n",
    "    which='both',      # both major and minor ticks are affected\n",
    "    left=False,      # ticks along the bottom edge are off\n",
    "    labelleft=False)        # ticks along the top edge are off\n",
    "plt.title('Method Comparison for Global Warming Potential for the IPMSM machine')\n",
    "plt.show"
   ]
  }
 ],
 "metadata": {
  "kernelspec": {
   "display_name": "Python 3",
   "language": "python",
   "name": "python3"
  },
  "language_info": {
   "codemirror_mode": {
    "name": "ipython",
    "version": 3
   },
   "file_extension": ".py",
   "mimetype": "text/x-python",
   "name": "python",
   "nbconvert_exporter": "python",
   "pygments_lexer": "ipython3",
   "version": "3.10.7"
  }
 },
 "nbformat": 4,
 "nbformat_minor": 5
}
